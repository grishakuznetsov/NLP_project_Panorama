{
  "nbformat": 4,
  "nbformat_minor": 0,
  "metadata": {
    "kernelspec": {
      "display_name": "Python 3",
      "language": "python",
      "name": "python3"
    },
    "language_info": {
      "codemirror_mode": {
        "name": "ipython",
        "version": 3
      },
      "file_extension": ".py",
      "mimetype": "text/x-python",
      "name": "python",
      "nbconvert_exporter": "python",
      "pygments_lexer": "ipython3",
      "version": "3.7.4"
    },
    "colab": {
      "name": "corpusorama_final.ipynb",
      "provenance": [],
      "collapsed_sections": []
    },
    "widgets": {
      "application/vnd.jupyter.widget-state+json": {
        "a9d3c0ee0f4d4b43ba82a84e9f19813e": {
          "model_module": "@jupyter-widgets/controls",
          "model_name": "HBoxModel",
          "state": {
            "_view_name": "HBoxView",
            "_dom_classes": [],
            "_model_name": "HBoxModel",
            "_view_module": "@jupyter-widgets/controls",
            "_model_module_version": "1.5.0",
            "_view_count": null,
            "_view_module_version": "1.5.0",
            "box_style": "",
            "layout": "IPY_MODEL_ef024cb9be5a48f182fd3f67a8effde4",
            "_model_module": "@jupyter-widgets/controls",
            "children": [
              "IPY_MODEL_0da02b830c9245d2a66bfa8ba14d0688",
              "IPY_MODEL_d1f94e797ed740f79609c480e9759629"
            ]
          }
        },
        "ef024cb9be5a48f182fd3f67a8effde4": {
          "model_module": "@jupyter-widgets/base",
          "model_name": "LayoutModel",
          "state": {
            "_view_name": "LayoutView",
            "grid_template_rows": null,
            "right": null,
            "justify_content": null,
            "_view_module": "@jupyter-widgets/base",
            "overflow": null,
            "_model_module_version": "1.2.0",
            "_view_count": null,
            "flex_flow": null,
            "width": null,
            "min_width": null,
            "border": null,
            "align_items": null,
            "bottom": null,
            "_model_module": "@jupyter-widgets/base",
            "top": null,
            "grid_column": null,
            "overflow_y": null,
            "overflow_x": null,
            "grid_auto_flow": null,
            "grid_area": null,
            "grid_template_columns": null,
            "flex": null,
            "_model_name": "LayoutModel",
            "justify_items": null,
            "grid_row": null,
            "max_height": null,
            "align_content": null,
            "visibility": null,
            "align_self": null,
            "height": null,
            "min_height": null,
            "padding": null,
            "grid_auto_rows": null,
            "grid_gap": null,
            "max_width": null,
            "order": null,
            "_view_module_version": "1.2.0",
            "grid_template_areas": null,
            "object_position": null,
            "object_fit": null,
            "grid_auto_columns": null,
            "margin": null,
            "display": null,
            "left": null
          }
        },
        "0da02b830c9245d2a66bfa8ba14d0688": {
          "model_module": "@jupyter-widgets/controls",
          "model_name": "FloatProgressModel",
          "state": {
            "_view_name": "ProgressView",
            "style": "IPY_MODEL_edbfd48be8224f94aa78cab3c81313a4",
            "_dom_classes": [],
            "description": "100%",
            "_model_name": "FloatProgressModel",
            "bar_style": "success",
            "max": 358,
            "_view_module": "@jupyter-widgets/controls",
            "_model_module_version": "1.5.0",
            "value": 358,
            "_view_count": null,
            "_view_module_version": "1.5.0",
            "orientation": "horizontal",
            "min": 0,
            "description_tooltip": null,
            "_model_module": "@jupyter-widgets/controls",
            "layout": "IPY_MODEL_96d254ff9bed40b3b73f1d1cbe8bda75"
          }
        },
        "d1f94e797ed740f79609c480e9759629": {
          "model_module": "@jupyter-widgets/controls",
          "model_name": "HTMLModel",
          "state": {
            "_view_name": "HTMLView",
            "style": "IPY_MODEL_e5ba3a19b4a947a186c16b40eba516d7",
            "_dom_classes": [],
            "description": "",
            "_model_name": "HTMLModel",
            "placeholder": "​",
            "_view_module": "@jupyter-widgets/controls",
            "_model_module_version": "1.5.0",
            "value": " 358/358 [00:08&lt;00:00, 39.98it/s]",
            "_view_count": null,
            "_view_module_version": "1.5.0",
            "description_tooltip": null,
            "_model_module": "@jupyter-widgets/controls",
            "layout": "IPY_MODEL_961d30d75afa49928dda2de551f7f088"
          }
        },
        "edbfd48be8224f94aa78cab3c81313a4": {
          "model_module": "@jupyter-widgets/controls",
          "model_name": "ProgressStyleModel",
          "state": {
            "_view_name": "StyleView",
            "_model_name": "ProgressStyleModel",
            "description_width": "initial",
            "_view_module": "@jupyter-widgets/base",
            "_model_module_version": "1.5.0",
            "_view_count": null,
            "_view_module_version": "1.2.0",
            "bar_color": null,
            "_model_module": "@jupyter-widgets/controls"
          }
        },
        "96d254ff9bed40b3b73f1d1cbe8bda75": {
          "model_module": "@jupyter-widgets/base",
          "model_name": "LayoutModel",
          "state": {
            "_view_name": "LayoutView",
            "grid_template_rows": null,
            "right": null,
            "justify_content": null,
            "_view_module": "@jupyter-widgets/base",
            "overflow": null,
            "_model_module_version": "1.2.0",
            "_view_count": null,
            "flex_flow": null,
            "width": null,
            "min_width": null,
            "border": null,
            "align_items": null,
            "bottom": null,
            "_model_module": "@jupyter-widgets/base",
            "top": null,
            "grid_column": null,
            "overflow_y": null,
            "overflow_x": null,
            "grid_auto_flow": null,
            "grid_area": null,
            "grid_template_columns": null,
            "flex": null,
            "_model_name": "LayoutModel",
            "justify_items": null,
            "grid_row": null,
            "max_height": null,
            "align_content": null,
            "visibility": null,
            "align_self": null,
            "height": null,
            "min_height": null,
            "padding": null,
            "grid_auto_rows": null,
            "grid_gap": null,
            "max_width": null,
            "order": null,
            "_view_module_version": "1.2.0",
            "grid_template_areas": null,
            "object_position": null,
            "object_fit": null,
            "grid_auto_columns": null,
            "margin": null,
            "display": null,
            "left": null
          }
        },
        "e5ba3a19b4a947a186c16b40eba516d7": {
          "model_module": "@jupyter-widgets/controls",
          "model_name": "DescriptionStyleModel",
          "state": {
            "_view_name": "StyleView",
            "_model_name": "DescriptionStyleModel",
            "description_width": "",
            "_view_module": "@jupyter-widgets/base",
            "_model_module_version": "1.5.0",
            "_view_count": null,
            "_view_module_version": "1.2.0",
            "_model_module": "@jupyter-widgets/controls"
          }
        },
        "961d30d75afa49928dda2de551f7f088": {
          "model_module": "@jupyter-widgets/base",
          "model_name": "LayoutModel",
          "state": {
            "_view_name": "LayoutView",
            "grid_template_rows": null,
            "right": null,
            "justify_content": null,
            "_view_module": "@jupyter-widgets/base",
            "overflow": null,
            "_model_module_version": "1.2.0",
            "_view_count": null,
            "flex_flow": null,
            "width": null,
            "min_width": null,
            "border": null,
            "align_items": null,
            "bottom": null,
            "_model_module": "@jupyter-widgets/base",
            "top": null,
            "grid_column": null,
            "overflow_y": null,
            "overflow_x": null,
            "grid_auto_flow": null,
            "grid_area": null,
            "grid_template_columns": null,
            "flex": null,
            "_model_name": "LayoutModel",
            "justify_items": null,
            "grid_row": null,
            "max_height": null,
            "align_content": null,
            "visibility": null,
            "align_self": null,
            "height": null,
            "min_height": null,
            "padding": null,
            "grid_auto_rows": null,
            "grid_gap": null,
            "max_width": null,
            "order": null,
            "_view_module_version": "1.2.0",
            "grid_template_areas": null,
            "object_position": null,
            "object_fit": null,
            "grid_auto_columns": null,
            "margin": null,
            "display": null,
            "left": null
          }
        }
      }
    }
  },
  "cells": [
    {
      "cell_type": "code",
      "metadata": {
        "id": "mHwX1rYgV4QC",
        "outputId": "2bc2be59-fe60-4e08-98d7-4a48cfdc4217",
        "colab": {
          "base_uri": "https://localhost:8080/",
          "height": 84
        }
      },
      "source": [
        "!pip install pymorphy2"
      ],
      "execution_count": 141,
      "outputs": [
        {
          "output_type": "stream",
          "text": [
            "Requirement already satisfied: pymorphy2 in /usr/local/lib/python3.6/dist-packages (0.9.1)\n",
            "Requirement already satisfied: pymorphy2-dicts-ru<3.0,>=2.4 in /usr/local/lib/python3.6/dist-packages (from pymorphy2) (2.4.417127.4579844)\n",
            "Requirement already satisfied: dawg-python>=0.7.1 in /usr/local/lib/python3.6/dist-packages (from pymorphy2) (0.7.2)\n",
            "Requirement already satisfied: docopt>=0.6 in /usr/local/lib/python3.6/dist-packages (from pymorphy2) (0.6.2)\n"
          ],
          "name": "stdout"
        }
      ]
    },
    {
      "cell_type": "code",
      "metadata": {
        "id": "WGkvOBWcgjDI",
        "outputId": "982f42e8-881f-433a-d684-5e0a2847a4ee",
        "colab": {
          "base_uri": "https://localhost:8080/",
          "height": 302
        }
      },
      "source": [
        "!wget http://download.cdn.yandex.net/mystem/mystem-3.0-linux3.1-64bit.tar.gz\n",
        "!tar -xvf mystem-3.0-linux3.1-64bit.tar.gz\n",
        "!cp mystem /root/.local/bin/mystem"
      ],
      "execution_count": 142,
      "outputs": [
        {
          "output_type": "stream",
          "text": [
            "--2020-10-23 05:41:13--  http://download.cdn.yandex.net/mystem/mystem-3.0-linux3.1-64bit.tar.gz\n",
            "Resolving download.cdn.yandex.net (download.cdn.yandex.net)... 5.45.205.241, 5.45.205.244, 5.45.205.243, ...\n",
            "Connecting to download.cdn.yandex.net (download.cdn.yandex.net)|5.45.205.241|:80... connected.\n",
            "HTTP request sent, awaiting response... 302 Found\n",
            "Location: http://cache-mskmar08.cdn.yandex.net/download.cdn.yandex.net/mystem/mystem-3.0-linux3.1-64bit.tar.gz [following]\n",
            "--2020-10-23 05:41:13--  http://cache-mskmar08.cdn.yandex.net/download.cdn.yandex.net/mystem/mystem-3.0-linux3.1-64bit.tar.gz\n",
            "Resolving cache-mskmar08.cdn.yandex.net (cache-mskmar08.cdn.yandex.net)... 5.45.222.32, 2a02:6b8:0:2b03::e8\n",
            "Connecting to cache-mskmar08.cdn.yandex.net (cache-mskmar08.cdn.yandex.net)|5.45.222.32|:80... connected.\n",
            "HTTP request sent, awaiting response... 200 OK\n",
            "Length: 16457938 (16M) [application/octet-stream]\n",
            "Saving to: ‘mystem-3.0-linux3.1-64bit.tar.gz.3’\n",
            "\n",
            "mystem-3.0-linux3.1 100%[===================>]  15.70M  8.95MB/s    in 1.8s    \n",
            "\n",
            "2020-10-23 05:41:16 (8.95 MB/s) - ‘mystem-3.0-linux3.1-64bit.tar.gz.3’ saved [16457938/16457938]\n",
            "\n",
            "mystem\n"
          ],
          "name": "stdout"
        }
      ]
    },
    {
      "cell_type": "code",
      "metadata": {
        "id": "gK2xMKqj50-p",
        "outputId": "e64bb232-3f63-4fb9-f973-9685c59d36be",
        "colab": {
          "base_uri": "https://localhost:8080/",
          "height": 67
        }
      },
      "source": [
        "import re\n",
        "import matplotlib.pyplot as plt\n",
        "import pandas as pd\n",
        "from collections import Counter\n",
        "import csv\n",
        "import sqlite3\n",
        "from pymorphy2 import MorphAnalyzer\n",
        "from pymystem3 import Mystem\n",
        "m = Mystem()\n",
        "morph = MorphAnalyzer()\n",
        "from string import punctuation\n",
        "from tqdm.auto import tqdm\n",
        "from nltk import sent_tokenize\n",
        "import nltk\n",
        "nltk.download('punkt')"
      ],
      "execution_count": 143,
      "outputs": [
        {
          "output_type": "stream",
          "text": [
            "[nltk_data] Downloading package punkt to /root/nltk_data...\n",
            "[nltk_data]   Package punkt is already up-to-date!\n"
          ],
          "name": "stdout"
        },
        {
          "output_type": "execute_result",
          "data": {
            "text/plain": [
              "True"
            ]
          },
          "metadata": {
            "tags": []
          },
          "execution_count": 143
        }
      ]
    },
    {
      "cell_type": "markdown",
      "metadata": {
        "id": "4OwIGsYS9nnM"
      },
      "source": [
        "# Датафрейм\n",
        "Мы скачали слишком много данных, поэтмоу взяли 700 и убрали повторяющиеся новости (иногда были)"
      ]
    },
    {
      "cell_type": "code",
      "metadata": {
        "id": "_fmpcw0m50-v"
      },
      "source": [
        "df = pd.read_csv('data_of_news_p.csv', sep=',')"
      ],
      "execution_count": 144,
      "outputs": []
    },
    {
      "cell_type": "code",
      "metadata": {
        "id": "Gq5pgUeYW5TZ",
        "outputId": "3a254592-a7d1-4630-cd0b-9d7a0908e0b9",
        "colab": {
          "base_uri": "https://localhost:8080/",
          "height": 586
        }
      },
      "source": [
        "df = df[:700]\n",
        "df"
      ],
      "execution_count": 145,
      "outputs": [
        {
          "output_type": "execute_result",
          "data": {
            "text/html": [
              "<div>\n",
              "<style scoped>\n",
              "    .dataframe tbody tr th:only-of-type {\n",
              "        vertical-align: middle;\n",
              "    }\n",
              "\n",
              "    .dataframe tbody tr th {\n",
              "        vertical-align: top;\n",
              "    }\n",
              "\n",
              "    .dataframe thead th {\n",
              "        text-align: right;\n",
              "    }\n",
              "</style>\n",
              "<table border=\"1\" class=\"dataframe\">\n",
              "  <thead>\n",
              "    <tr style=\"text-align: right;\">\n",
              "      <th></th>\n",
              "      <th>Unnamed: 0</th>\n",
              "      <th>newspaper</th>\n",
              "      <th>tags</th>\n",
              "      <th>headers</th>\n",
              "      <th>articles</th>\n",
              "      <th>links</th>\n",
              "    </tr>\n",
              "  </thead>\n",
              "  <tbody>\n",
              "    <tr>\n",
              "      <th>0</th>\n",
              "      <td>0</td>\n",
              "      <td>Panorama</td>\n",
              "      <td>Общество</td>\n",
              "      <td>В   т о р г о в о й   с е т и   П я т ё р о ч ...</td>\n",
              "      <td>В торговой сети Пятёрочка в продаже появились ...</td>\n",
              "      <td>https://panorama.pub/50439-v-torgovoj-seti-pya...</td>\n",
              "    </tr>\n",
              "    <tr>\n",
              "      <th>1</th>\n",
              "      <td>1</td>\n",
              "      <td>Panorama</td>\n",
              "      <td>Общество</td>\n",
              "      <td>И л ь ю   В а р л а м о в а   о б в и н и л и ...</td>\n",
              "      <td>Мэрия Воркуты обратилась с иском к видеоблогер...</td>\n",
              "      <td>https://panorama.pub/50505-varlamova-obvinili....</td>\n",
              "    </tr>\n",
              "    <tr>\n",
              "      <th>2</th>\n",
              "      <td>2</td>\n",
              "      <td>Panorama</td>\n",
              "      <td>Общество</td>\n",
              "      <td>В   Р о с с и и   в в е д у т   о б я з а т е ...</td>\n",
              "      <td>Комитет Государственной думы по бюджету и нало...</td>\n",
              "      <td>https://panorama.pub/50500-nalog-na-wi-fi-rout...</td>\n",
              "    </tr>\n",
              "    <tr>\n",
              "      <th>3</th>\n",
              "      <td>3</td>\n",
              "      <td>Panorama</td>\n",
              "      <td>Общество</td>\n",
              "      <td>М и к у   Х а ц у н э   и с п о л н и т   р е ...</td>\n",
              "      <td>Японская виртуальная певица Мику Хацуне на гот...</td>\n",
              "      <td>https://panorama.pub/50494-miku-hatsune-ispoln...</td>\n",
              "    </tr>\n",
              "    <tr>\n",
              "      <th>4</th>\n",
              "      <td>4</td>\n",
              "      <td>Panorama</td>\n",
              "      <td>Общество</td>\n",
              "      <td>L   о т м е н я е т   т р е б о в а н и е   о ...</td>\n",
              "      <td>Крупнейший авиаперевозчик Германии L объявил о...</td>\n",
              "      <td>https://panorama.pub/50502-lufthansa-otmenyaet...</td>\n",
              "    </tr>\n",
              "    <tr>\n",
              "      <th>...</th>\n",
              "      <td>...</td>\n",
              "      <td>...</td>\n",
              "      <td>...</td>\n",
              "      <td>...</td>\n",
              "      <td>...</td>\n",
              "      <td>...</td>\n",
              "    </tr>\n",
              "    <tr>\n",
              "      <th>695</th>\n",
              "      <td>695</td>\n",
              "      <td>Panorama</td>\n",
              "      <td>Общество</td>\n",
              "      <td>В   К а л и н и н г р а д е   с н е с у т   п ...</td>\n",
              "      <td>Мэрия Калининграда дала согласие на снос монум...</td>\n",
              "      <td>https://panorama.pub/43492-v-kaliningrade-snes...</td>\n",
              "    </tr>\n",
              "    <tr>\n",
              "      <th>696</th>\n",
              "      <td>696</td>\n",
              "      <td>Panorama</td>\n",
              "      <td>Общество</td>\n",
              "      <td>В   К у р с к е   а р е с т о в а л и   т а м ...</td>\n",
              "      <td>Сотрудниками правоохранительных органов Курско...</td>\n",
              "      <td>https://panorama.pub/43484-arestovali-tamozhen...</td>\n",
              "    </tr>\n",
              "    <tr>\n",
              "      <th>697</th>\n",
              "      <td>697</td>\n",
              "      <td>Panorama</td>\n",
              "      <td>Общество</td>\n",
              "      <td>С у д е й ,   у л и ч ё н н ы х   в о   в з я ...</td>\n",
              "      <td>Госдума приняла в первом чтении законопроект О...</td>\n",
              "      <td>https://panorama.pub/43454-sudej-osvobodjat.html</td>\n",
              "    </tr>\n",
              "    <tr>\n",
              "      <th>698</th>\n",
              "      <td>698</td>\n",
              "      <td>Panorama</td>\n",
              "      <td>Общество</td>\n",
              "      <td>П о с л е   л е к ц и и   Г о р б а ч ё в а   ...</td>\n",
              "      <td>Неприятно завершилась лекция в одной из аудито...</td>\n",
              "      <td>https://panorama.pub/43436-posle-lektsii-gorba...</td>\n",
              "    </tr>\n",
              "    <tr>\n",
              "      <th>699</th>\n",
              "      <td>699</td>\n",
              "      <td>Panorama</td>\n",
              "      <td>Общество</td>\n",
              "      <td>В   Ц И К   п р е д л о ж и л и   з а м е н и ...</td>\n",
              "      <td>В Центризбиркоме продолжается подготовка к еди...</td>\n",
              "      <td>https://panorama.pub/43421-zamenit-nablyudatel...</td>\n",
              "    </tr>\n",
              "  </tbody>\n",
              "</table>\n",
              "<p>700 rows × 6 columns</p>\n",
              "</div>"
            ],
            "text/plain": [
              "     Unnamed: 0  ...                                              links\n",
              "0             0  ...  https://panorama.pub/50439-v-torgovoj-seti-pya...\n",
              "1             1  ...  https://panorama.pub/50505-varlamova-obvinili....\n",
              "2             2  ...  https://panorama.pub/50500-nalog-na-wi-fi-rout...\n",
              "3             3  ...  https://panorama.pub/50494-miku-hatsune-ispoln...\n",
              "4             4  ...  https://panorama.pub/50502-lufthansa-otmenyaet...\n",
              "..          ...  ...                                                ...\n",
              "695         695  ...  https://panorama.pub/43492-v-kaliningrade-snes...\n",
              "696         696  ...  https://panorama.pub/43484-arestovali-tamozhen...\n",
              "697         697  ...   https://panorama.pub/43454-sudej-osvobodjat.html\n",
              "698         698  ...  https://panorama.pub/43436-posle-lektsii-gorba...\n",
              "699         699  ...  https://panorama.pub/43421-zamenit-nablyudatel...\n",
              "\n",
              "[700 rows x 6 columns]"
            ]
          },
          "metadata": {
            "tags": []
          },
          "execution_count": 145
        }
      ]
    },
    {
      "cell_type": "code",
      "metadata": {
        "id": "QcYLG13LWhKx"
      },
      "source": [
        "df = df.drop_duplicates(subset =\"links\", \n",
        "                     keep = False, ignore_index=True) "
      ],
      "execution_count": 146,
      "outputs": []
    },
    {
      "cell_type": "code",
      "metadata": {
        "id": "5atj9nG8Yes3",
        "outputId": "a1899df3-6f52-4f12-907f-f296d7914f0a",
        "colab": {
          "base_uri": "https://localhost:8080/",
          "height": 586
        }
      },
      "source": [
        "df"
      ],
      "execution_count": 147,
      "outputs": [
        {
          "output_type": "execute_result",
          "data": {
            "text/html": [
              "<div>\n",
              "<style scoped>\n",
              "    .dataframe tbody tr th:only-of-type {\n",
              "        vertical-align: middle;\n",
              "    }\n",
              "\n",
              "    .dataframe tbody tr th {\n",
              "        vertical-align: top;\n",
              "    }\n",
              "\n",
              "    .dataframe thead th {\n",
              "        text-align: right;\n",
              "    }\n",
              "</style>\n",
              "<table border=\"1\" class=\"dataframe\">\n",
              "  <thead>\n",
              "    <tr style=\"text-align: right;\">\n",
              "      <th></th>\n",
              "      <th>Unnamed: 0</th>\n",
              "      <th>newspaper</th>\n",
              "      <th>tags</th>\n",
              "      <th>headers</th>\n",
              "      <th>articles</th>\n",
              "      <th>links</th>\n",
              "    </tr>\n",
              "  </thead>\n",
              "  <tbody>\n",
              "    <tr>\n",
              "      <th>0</th>\n",
              "      <td>342</td>\n",
              "      <td>Panorama</td>\n",
              "      <td>Общество</td>\n",
              "      <td>S   I   р а з р а б о т а е т   к о м п а с , ...</td>\n",
              "      <td>Итальянский производитель одежды премиумкласса...</td>\n",
              "      <td>https://panorama.pub/48565-stone-island-razrab...</td>\n",
              "    </tr>\n",
              "    <tr>\n",
              "      <th>1</th>\n",
              "      <td>343</td>\n",
              "      <td>Panorama</td>\n",
              "      <td>Общество</td>\n",
              "      <td>И з з а   с д в и г а   л и т о с ф е р н ы х ...</td>\n",
              "      <td>Военные действия Армении и Азербайджана спрово...</td>\n",
              "      <td>https://panorama.pub/48602-nagornyj-karabah-vo...</td>\n",
              "    </tr>\n",
              "    <tr>\n",
              "      <th>2</th>\n",
              "      <td>344</td>\n",
              "      <td>Panorama</td>\n",
              "      <td>Общество</td>\n",
              "      <td>Л у к а ш е н к о   п о т р е б о в а л   и с ...</td>\n",
              "      <td>Александр Лукашенко выступая перед президиумом...</td>\n",
              "      <td>https://panorama.pub/48538-lukashenko-potrebov...</td>\n",
              "    </tr>\n",
              "    <tr>\n",
              "      <th>3</th>\n",
              "      <td>345</td>\n",
              "      <td>Panorama</td>\n",
              "      <td>Общество</td>\n",
              "      <td>М о с к в а   в в о д и т   с и с т е м у   б ...</td>\n",
              "      <td>В связи с осложнившейся эпидемиологической обс...</td>\n",
              "      <td>https://panorama.pub/48561-moskva-vvodit-siste...</td>\n",
              "    </tr>\n",
              "    <tr>\n",
              "      <th>4</th>\n",
              "      <td>346</td>\n",
              "      <td>Panorama</td>\n",
              "      <td>Общество</td>\n",
              "      <td>Ч е л я б и н ц ы     к м   н е с л и   н а   ...</td>\n",
              "      <td>Необычный случай произошел на трассе М, соедин...</td>\n",
              "      <td>https://panorama.pub/48509-chelyabintsy.html</td>\n",
              "    </tr>\n",
              "    <tr>\n",
              "      <th>...</th>\n",
              "      <td>...</td>\n",
              "      <td>...</td>\n",
              "      <td>...</td>\n",
              "      <td>...</td>\n",
              "      <td>...</td>\n",
              "      <td>...</td>\n",
              "    </tr>\n",
              "    <tr>\n",
              "      <th>353</th>\n",
              "      <td>695</td>\n",
              "      <td>Panorama</td>\n",
              "      <td>Общество</td>\n",
              "      <td>В   К а л и н и н г р а д е   с н е с у т   п ...</td>\n",
              "      <td>Мэрия Калининграда дала согласие на снос монум...</td>\n",
              "      <td>https://panorama.pub/43492-v-kaliningrade-snes...</td>\n",
              "    </tr>\n",
              "    <tr>\n",
              "      <th>354</th>\n",
              "      <td>696</td>\n",
              "      <td>Panorama</td>\n",
              "      <td>Общество</td>\n",
              "      <td>В   К у р с к е   а р е с т о в а л и   т а м ...</td>\n",
              "      <td>Сотрудниками правоохранительных органов Курско...</td>\n",
              "      <td>https://panorama.pub/43484-arestovali-tamozhen...</td>\n",
              "    </tr>\n",
              "    <tr>\n",
              "      <th>355</th>\n",
              "      <td>697</td>\n",
              "      <td>Panorama</td>\n",
              "      <td>Общество</td>\n",
              "      <td>С у д е й ,   у л и ч ё н н ы х   в о   в з я ...</td>\n",
              "      <td>Госдума приняла в первом чтении законопроект О...</td>\n",
              "      <td>https://panorama.pub/43454-sudej-osvobodjat.html</td>\n",
              "    </tr>\n",
              "    <tr>\n",
              "      <th>356</th>\n",
              "      <td>698</td>\n",
              "      <td>Panorama</td>\n",
              "      <td>Общество</td>\n",
              "      <td>П о с л е   л е к ц и и   Г о р б а ч ё в а   ...</td>\n",
              "      <td>Неприятно завершилась лекция в одной из аудито...</td>\n",
              "      <td>https://panorama.pub/43436-posle-lektsii-gorba...</td>\n",
              "    </tr>\n",
              "    <tr>\n",
              "      <th>357</th>\n",
              "      <td>699</td>\n",
              "      <td>Panorama</td>\n",
              "      <td>Общество</td>\n",
              "      <td>В   Ц И К   п р е д л о ж и л и   з а м е н и ...</td>\n",
              "      <td>В Центризбиркоме продолжается подготовка к еди...</td>\n",
              "      <td>https://panorama.pub/43421-zamenit-nablyudatel...</td>\n",
              "    </tr>\n",
              "  </tbody>\n",
              "</table>\n",
              "<p>358 rows × 6 columns</p>\n",
              "</div>"
            ],
            "text/plain": [
              "     Unnamed: 0  ...                                              links\n",
              "0           342  ...  https://panorama.pub/48565-stone-island-razrab...\n",
              "1           343  ...  https://panorama.pub/48602-nagornyj-karabah-vo...\n",
              "2           344  ...  https://panorama.pub/48538-lukashenko-potrebov...\n",
              "3           345  ...  https://panorama.pub/48561-moskva-vvodit-siste...\n",
              "4           346  ...       https://panorama.pub/48509-chelyabintsy.html\n",
              "..          ...  ...                                                ...\n",
              "353         695  ...  https://panorama.pub/43492-v-kaliningrade-snes...\n",
              "354         696  ...  https://panorama.pub/43484-arestovali-tamozhen...\n",
              "355         697  ...   https://panorama.pub/43454-sudej-osvobodjat.html\n",
              "356         698  ...  https://panorama.pub/43436-posle-lektsii-gorba...\n",
              "357         699  ...  https://panorama.pub/43421-zamenit-nablyudatel...\n",
              "\n",
              "[358 rows x 6 columns]"
            ]
          },
          "metadata": {
            "tags": []
          },
          "execution_count": 147
        }
      ]
    },
    {
      "cell_type": "markdown",
      "metadata": {
        "id": "ZMwz6z_y9256"
      },
      "source": [
        "# Предобработка и служебные функции"
      ]
    },
    {
      "cell_type": "code",
      "metadata": {
        "id": "6POIrnE_50-_"
      },
      "source": [
        "raw_texts = []\n",
        "for row in df['articles']:\n",
        "    raw_texts.append(row)"
      ],
      "execution_count": 148,
      "outputs": []
    },
    {
      "cell_type": "code",
      "metadata": {
        "id": "wNHi2SypqtQc"
      },
      "source": [
        "from string import punctuation\n",
        "def clean(text):\n",
        "  for i in punctuation + '—«»':\n",
        "    text = text.replace(i, '')\n",
        "  text = text.replace('  ',' ')\n",
        "  return text"
      ],
      "execution_count": 149,
      "outputs": []
    },
    {
      "cell_type": "code",
      "metadata": {
        "id": "VVc_OSb5iTU8"
      },
      "source": [
        "def lemmatize(word):\n",
        "  ana = m.analyze(word.lower())\n",
        "  for word in ana:\n",
        "    if 'analysis' in word:\n",
        "      if len(word['analysis']) != 0:\n",
        "        lex = word['analysis'][0]['lex']\n",
        "      else:\n",
        "        lex = word['text']\n",
        "  return lex"
      ],
      "execution_count": 150,
      "outputs": []
    },
    {
      "cell_type": "code",
      "metadata": {
        "id": "JVncnuvKnOzX"
      },
      "source": [
        "def make_sent(sent):\n",
        "  s = ''\n",
        "  for i in sent:\n",
        "    s += i + ' '\n",
        "  return s[:-1]"
      ],
      "execution_count": 151,
      "outputs": []
    },
    {
      "cell_type": "code",
      "metadata": {
        "id": "cMV45YF7g2Be"
      },
      "source": [
        "def sent_lemmatize(sent):\n",
        "  pos = []\n",
        "  lemm = []\n",
        "  lex = []\n",
        "  lemm_sent = []\n",
        "  for i in m.analyze(clean(sent)):\n",
        "    if 'analysis' in i:\n",
        "      if i['analysis'] == []:\n",
        "        pos.append('UNDFND')\n",
        "        lex.append(i['text'])\n",
        "        lemm.append(i['text'])\n",
        "      else:\n",
        "        lex.append(i['text'].lower())\n",
        "        lemm.append(i['analysis'][0]['lex'])\n",
        "        pos.append(re.search(r'([A-Z])', i['analysis'][0]['gr']).group())\n",
        "    elif (i['text'] != ' ' and i['text'] != '\\n'):\n",
        "      pos.append('UNDFND')\n",
        "      lex.append(i['text'].lower())\n",
        "      lemm.append(i['text'])\n",
        "  return lex, lemm, pos"
      ],
      "execution_count": 152,
      "outputs": []
    },
    {
      "cell_type": "code",
      "metadata": {
        "id": "torp629Omae8",
        "outputId": "076b7a3b-ca0b-472c-f296-4f01101d7a7f",
        "colab": {
          "base_uri": "https://localhost:8080/",
          "height": 66,
          "referenced_widgets": [
            "a9d3c0ee0f4d4b43ba82a84e9f19813e",
            "ef024cb9be5a48f182fd3f67a8effde4",
            "0da02b830c9245d2a66bfa8ba14d0688",
            "d1f94e797ed740f79609c480e9759629",
            "edbfd48be8224f94aa78cab3c81313a4",
            "96d254ff9bed40b3b73f1d1cbe8bda75",
            "e5ba3a19b4a947a186c16b40eba516d7",
            "961d30d75afa49928dda2de551f7f088"
          ]
        }
      },
      "source": [
        "texts_pos = []\n",
        "texts_lem = []\n",
        "texts_lex = []\n",
        "texts_sent = []\n",
        "texts_lemmatized_sent = []\n",
        "for text in tqdm(raw_texts):\n",
        "  lem_sents = []\n",
        "  sents = []\n",
        "  lex, lemm, pos = sent_lemmatize(text)\n",
        "  texts_lex.append(lex)\n",
        "  texts_pos.append(pos)\n",
        "  texts_lem.append(lemm)\n",
        "  for i in nltk.sent_tokenize(text):\n",
        "    sents.append(i)\n",
        "    lem_sents.append(sent_lemmatize(i)[1])\n",
        "  texts_sent.append(sents)\n",
        "  texts_lemmatized_sent.append(lem_sents)"
      ],
      "execution_count": 153,
      "outputs": [
        {
          "output_type": "display_data",
          "data": {
            "application/vnd.jupyter.widget-view+json": {
              "model_id": "a9d3c0ee0f4d4b43ba82a84e9f19813e",
              "version_minor": 0,
              "version_major": 2
            },
            "text/plain": [
              "HBox(children=(FloatProgress(value=0.0, max=358.0), HTML(value='')))"
            ]
          },
          "metadata": {
            "tags": []
          }
        },
        {
          "output_type": "stream",
          "text": [
            "\n"
          ],
          "name": "stdout"
        }
      ]
    },
    {
      "cell_type": "markdown",
      "metadata": {
        "id": "GPlUcvyr9_9I"
      },
      "source": [
        "# Рабочий датафрейм"
      ]
    },
    {
      "cell_type": "code",
      "metadata": {
        "id": "kXoWVN0150_I",
        "outputId": "35ed584e-8036-47be-d62c-77ece9841432",
        "colab": {
          "base_uri": "https://localhost:8080/",
          "height": 1000
        }
      },
      "source": [
        "texts = pd.DataFrame()\n",
        "texts['title'] = df.headers\n",
        "texts['text'] = df.articles\n",
        "texts['sentences'] = texts_sent\n",
        "texts['lemmatized sentences'] = texts_lemmatized_sent\n",
        "texts['lexems'] = texts_lex \n",
        "texts['lemms'] = texts_lem\n",
        "texts['tags'] = texts_pos\n",
        "texts['links'] = df.links\n",
        "texts"
      ],
      "execution_count": 154,
      "outputs": [
        {
          "output_type": "execute_result",
          "data": {
            "text/html": [
              "<div>\n",
              "<style scoped>\n",
              "    .dataframe tbody tr th:only-of-type {\n",
              "        vertical-align: middle;\n",
              "    }\n",
              "\n",
              "    .dataframe tbody tr th {\n",
              "        vertical-align: top;\n",
              "    }\n",
              "\n",
              "    .dataframe thead th {\n",
              "        text-align: right;\n",
              "    }\n",
              "</style>\n",
              "<table border=\"1\" class=\"dataframe\">\n",
              "  <thead>\n",
              "    <tr style=\"text-align: right;\">\n",
              "      <th></th>\n",
              "      <th>title</th>\n",
              "      <th>text</th>\n",
              "      <th>sentences</th>\n",
              "      <th>lemmatized sentences</th>\n",
              "      <th>lexems</th>\n",
              "      <th>lemms</th>\n",
              "      <th>tags</th>\n",
              "      <th>links</th>\n",
              "    </tr>\n",
              "  </thead>\n",
              "  <tbody>\n",
              "    <tr>\n",
              "      <th>0</th>\n",
              "      <td>S   I   р а з р а б о т а е т   к о м п а с , ...</td>\n",
              "      <td>Итальянский производитель одежды премиумкласса...</td>\n",
              "      <td>[Итальянский производитель одежды премиумкласс...</td>\n",
              "      <td>[[итальянский, производитель, одежда, премиумк...</td>\n",
              "      <td>[итальянский, производитель, одежды, премиумкл...</td>\n",
              "      <td>[итальянский, производитель, одежда, премиумкл...</td>\n",
              "      <td>[A, S, S, S, UNDFND, UNDFND, P, A, S, V, S, V,...</td>\n",
              "      <td>https://panorama.pub/48565-stone-island-razrab...</td>\n",
              "    </tr>\n",
              "    <tr>\n",
              "      <th>1</th>\n",
              "      <td>И з з а   с д в и г а   л и т о с ф е р н ы х ...</td>\n",
              "      <td>Военные действия Армении и Азербайджана спрово...</td>\n",
              "      <td>[Военные действия Армении и Азербайджана спров...</td>\n",
              "      <td>[[военный, действие, армения, и, азербайджан, ...</td>\n",
              "      <td>[военные, действия, армении, и, азербайджана, ...</td>\n",
              "      <td>[военный, действие, армения, и, азербайджан, с...</td>\n",
              "      <td>[A, S, S, C, S, V, A, A, S, P, S, A, S, S, S, ...</td>\n",
              "      <td>https://panorama.pub/48602-nagornyj-karabah-vo...</td>\n",
              "    </tr>\n",
              "    <tr>\n",
              "      <th>2</th>\n",
              "      <td>Л у к а ш е н к о   п о т р е б о в а л   и с ...</td>\n",
              "      <td>Александр Лукашенко выступая перед президиумом...</td>\n",
              "      <td>[Александр Лукашенко выступая перед президиумо...</td>\n",
              "      <td>[[александр, лукашенко, выступать, перед, през...</td>\n",
              "      <td>[александр, лукашенко, выступая, перед, презид...</td>\n",
              "      <td>[александр, лукашенко, выступать, перед, прези...</td>\n",
              "      <td>[S, S, V, P, S, A, S, S, S, V, V, S, P, S, A, ...</td>\n",
              "      <td>https://panorama.pub/48538-lukashenko-potrebov...</td>\n",
              "    </tr>\n",
              "    <tr>\n",
              "      <th>3</th>\n",
              "      <td>М о с к в а   в в о д и т   с и с т е м у   б ...</td>\n",
              "      <td>В связи с осложнившейся эпидемиологической обс...</td>\n",
              "      <td>[В связи с осложнившейся эпидемиологической об...</td>\n",
              "      <td>[[в, связь, с, осложняться, эпидемиологический...</td>\n",
              "      <td>[в, связи, с, осложнившейся, эпидемиологическо...</td>\n",
              "      <td>[в, связь, с, осложняться, эпидемиологический,...</td>\n",
              "      <td>[P, S, P, V, A, S, S, S, V, S, P, A, S, S, P, ...</td>\n",
              "      <td>https://panorama.pub/48561-moskva-vvodit-siste...</td>\n",
              "    </tr>\n",
              "    <tr>\n",
              "      <th>4</th>\n",
              "      <td>Ч е л я б и н ц ы     к м   н е с л и   н а   ...</td>\n",
              "      <td>Необычный случай произошел на трассе М, соедин...</td>\n",
              "      <td>[Необычный случай произошел на трассе М, соеди...</td>\n",
              "      <td>[[необычный, случай, происходить, на, трасса, ...</td>\n",
              "      <td>[необычный, случай, произошел, на, трассе, м, ...</td>\n",
              "      <td>[необычный, случай, происходить, на, трасса, м...</td>\n",
              "      <td>[A, S, V, P, S, S, V, S, C, S, S, S, A, A, S, ...</td>\n",
              "      <td>https://panorama.pub/48509-chelyabintsy.html</td>\n",
              "    </tr>\n",
              "    <tr>\n",
              "      <th>...</th>\n",
              "      <td>...</td>\n",
              "      <td>...</td>\n",
              "      <td>...</td>\n",
              "      <td>...</td>\n",
              "      <td>...</td>\n",
              "      <td>...</td>\n",
              "      <td>...</td>\n",
              "      <td>...</td>\n",
              "    </tr>\n",
              "    <tr>\n",
              "      <th>353</th>\n",
              "      <td>В   К а л и н и н г р а д е   с н е с у т   п ...</td>\n",
              "      <td>Мэрия Калининграда дала согласие на снос монум...</td>\n",
              "      <td>[Мэрия Калининграда дала согласие на снос мону...</td>\n",
              "      <td>[[мэрия, калининград, давать, согласие, на, сн...</td>\n",
              "      <td>[мэрия, калининграда, дала, согласие, на, снос...</td>\n",
              "      <td>[мэрия, калининград, давать, согласие, на, сно...</td>\n",
              "      <td>[S, S, V, S, P, S, S, S, S, V, S, A, S, S, V, ...</td>\n",
              "      <td>https://panorama.pub/43492-v-kaliningrade-snes...</td>\n",
              "    </tr>\n",
              "    <tr>\n",
              "      <th>354</th>\n",
              "      <td>В   К у р с к е   а р е с т о в а л и   т а м ...</td>\n",
              "      <td>Сотрудниками правоохранительных органов Курско...</td>\n",
              "      <td>[Сотрудниками правоохранительных органов Курск...</td>\n",
              "      <td>[[сотрудник, правоохранительный, орган, курски...</td>\n",
              "      <td>[сотрудниками, правоохранительных, органов, ку...</td>\n",
              "      <td>[сотрудник, правоохранительный, орган, курский...</td>\n",
              "      <td>[S, A, S, A, S, V, V, S, V, A, S, V, P, S, V, ...</td>\n",
              "      <td>https://panorama.pub/43484-arestovali-tamozhen...</td>\n",
              "    </tr>\n",
              "    <tr>\n",
              "      <th>355</th>\n",
              "      <td>С у д е й ,   у л и ч ё н н ы х   в о   в з я ...</td>\n",
              "      <td>Госдума приняла в первом чтении законопроект О...</td>\n",
              "      <td>[Госдума приняла в первом чтении законопроект ...</td>\n",
              "      <td>[[госдума, принимать, в, первый, чтение, закон...</td>\n",
              "      <td>[госдума, приняла, в, первом, чтении, законопр...</td>\n",
              "      <td>[госдума, принимать, в, первый, чтение, законо...</td>\n",
              "      <td>[S, V, P, A, S, S, P, S, S, P, S, A, S, S, V, ...</td>\n",
              "      <td>https://panorama.pub/43454-sudej-osvobodjat.html</td>\n",
              "    </tr>\n",
              "    <tr>\n",
              "      <th>356</th>\n",
              "      <td>П о с л е   л е к ц и и   Г о р б а ч ё в а   ...</td>\n",
              "      <td>Неприятно завершилась лекция в одной из аудито...</td>\n",
              "      <td>[Неприятно завершилась лекция в одной из аудит...</td>\n",
              "      <td>[[неприятно, завершаться, лекция, в, один, из,...</td>\n",
              "      <td>[неприятно, завершилась, лекция, в, одной, из,...</td>\n",
              "      <td>[неприятно, завершаться, лекция, в, один, из, ...</td>\n",
              "      <td>[A, V, S, P, A, P, S, A, S, P, S, S, S, S, S, ...</td>\n",
              "      <td>https://panorama.pub/43436-posle-lektsii-gorba...</td>\n",
              "    </tr>\n",
              "    <tr>\n",
              "      <th>357</th>\n",
              "      <td>В   Ц И К   п р е д л о ж и л и   з а м е н и ...</td>\n",
              "      <td>В Центризбиркоме продолжается подготовка к еди...</td>\n",
              "      <td>[В Центризбиркоме продолжается подготовка к ед...</td>\n",
              "      <td>[[в, центризбирком, продолжаться, подготовка, ...</td>\n",
              "      <td>[в, центризбиркоме, продолжается, подготовка, ...</td>\n",
              "      <td>[в, центризбирком, продолжаться, подготовка, к...</td>\n",
              "      <td>[P, S, V, S, P, A, S, S, P, A, S, V, S, P, S, ...</td>\n",
              "      <td>https://panorama.pub/43421-zamenit-nablyudatel...</td>\n",
              "    </tr>\n",
              "  </tbody>\n",
              "</table>\n",
              "<p>358 rows × 8 columns</p>\n",
              "</div>"
            ],
            "text/plain": [
              "                                                 title  ...                                              links\n",
              "0    S   I   р а з р а б о т а е т   к о м п а с , ...  ...  https://panorama.pub/48565-stone-island-razrab...\n",
              "1    И з з а   с д в и г а   л и т о с ф е р н ы х ...  ...  https://panorama.pub/48602-nagornyj-karabah-vo...\n",
              "2    Л у к а ш е н к о   п о т р е б о в а л   и с ...  ...  https://panorama.pub/48538-lukashenko-potrebov...\n",
              "3    М о с к в а   в в о д и т   с и с т е м у   б ...  ...  https://panorama.pub/48561-moskva-vvodit-siste...\n",
              "4    Ч е л я б и н ц ы     к м   н е с л и   н а   ...  ...       https://panorama.pub/48509-chelyabintsy.html\n",
              "..                                                 ...  ...                                                ...\n",
              "353  В   К а л и н и н г р а д е   с н е с у т   п ...  ...  https://panorama.pub/43492-v-kaliningrade-snes...\n",
              "354  В   К у р с к е   а р е с т о в а л и   т а м ...  ...  https://panorama.pub/43484-arestovali-tamozhen...\n",
              "355  С у д е й ,   у л и ч ё н н ы х   в о   в з я ...  ...   https://panorama.pub/43454-sudej-osvobodjat.html\n",
              "356  П о с л е   л е к ц и и   Г о р б а ч ё в а   ...  ...  https://panorama.pub/43436-posle-lektsii-gorba...\n",
              "357  В   Ц И К   п р е д л о ж и л и   з а м е н и ...  ...  https://panorama.pub/43421-zamenit-nablyudatel...\n",
              "\n",
              "[358 rows x 8 columns]"
            ]
          },
          "metadata": {
            "tags": []
          },
          "execution_count": 154
        }
      ]
    },
    {
      "cell_type": "code",
      "metadata": {
        "id": "v80J5SRMjbzC"
      },
      "source": [
        "pos_tags = ['A', 'ADV', 'ADVPRO', 'ANUM', 'APRO', 'COM', 'CONJ', 'INTJ', 'NUM', 'PART', 'PR', 'S', 'SPRO', 'V', 'P']"
      ],
      "execution_count": 181,
      "outputs": []
    },
    {
      "cell_type": "code",
      "metadata": {
        "id": "8jHqd4ZCjGeN"
      },
      "source": [
        "def pos(smth):\n",
        "  words = []\n",
        "  for i, tag in enumerate(texts['tags']):\n",
        "    for t in range(len(tag)):\n",
        "      if tag[t]==smth:\n",
        "        words.append(texts['lexems'][i][t])\n",
        "      else:\n",
        "        words.append('')\n",
        "  return words #списочек с подходящими словами"
      ],
      "execution_count": 182,
      "outputs": []
    },
    {
      "cell_type": "code",
      "metadata": {
        "id": "Cnkq54mqjaOG"
      },
      "source": [
        "def lexx(smth):\n",
        "  smth = smth.replace('\"', '')\n",
        "  words = []\n",
        "  for i, lexem in enumerate(texts['lexems']):\n",
        "    for l in texts['lexems'][i]:\n",
        "      if l==smth:\n",
        "        words.append(l)\n",
        "      else:\n",
        "        words.append('')\n",
        "  return words"
      ],
      "execution_count": 183,
      "outputs": []
    },
    {
      "cell_type": "code",
      "metadata": {
        "id": "nKIAnpk7jvqT"
      },
      "source": [
        "def lexpos(smth):\n",
        "  splitted_smth = smth.split('+')\n",
        "  words = []\n",
        "  for i, tag in enumerate(texts['tags']):\n",
        "    for t in range(len(tag)):\n",
        "      if tag[t]==splitted_smth[1] and texts['lexems'][i][t]==splitted_smth[0]:\n",
        "        words.append(texts['lexems'][i][t])\n",
        "      else:\n",
        "        words.append('')\n",
        "  return words"
      ],
      "execution_count": 184,
      "outputs": []
    },
    {
      "cell_type": "code",
      "metadata": {
        "id": "cwP1rbcAj0oz"
      },
      "source": [
        "def lem(smth):\n",
        "  lemmatized_smth = lemmatize(smth)\n",
        "  words = []\n",
        "  for i, lem in enumerate(texts['lemms']):\n",
        "    for t in range(len(lem)):\n",
        "      if lem[t]==lemmatized_smth:\n",
        "        words.append(texts['lexems'][i][t])\n",
        "      else:\n",
        "        words.append('')\n",
        "  return words"
      ],
      "execution_count": 185,
      "outputs": []
    },
    {
      "cell_type": "code",
      "metadata": {
        "id": "a7sNQ9Cg4Tex"
      },
      "source": [
        "def search_by_ngramm(start_req):\n",
        "  req = start_req.split(' ')\n",
        "  for_work = []\n",
        "  finish = [] #тут словосочетания списками\n",
        "  new = [] #это для сдвигов\n",
        "  sent_of_cuts = [] #для кусков\n",
        "  sent_of_sents = [] #для предложений\n",
        "  words_lex = []\n",
        "  links = []\n",
        "  for i in req:\n",
        "    if i in pos_tags:\n",
        "      words = pos(i)\n",
        "    elif i[0]=='\"':\n",
        "      words = lexx(i)\n",
        "    elif '+' in i:\n",
        "      words = lexpos(i)\n",
        "    else:\n",
        "      words = lem(i)\n",
        "    for_work.append(words)\n",
        "\n",
        "  for m in range(len(for_work)):\n",
        "    sdvig = for_work[m][m:]\n",
        "    sdvig.extend(for_work[m][:m])\n",
        "    new.append(sdvig)\n",
        "  for n in range(len(new[0])):\n",
        "    cut = []\n",
        "    for elem in new:\n",
        "      cut.append(elem[n])\n",
        "    if '' not in cut:\n",
        "      finish.append(cut)\n",
        "  for t in finish:\n",
        "    sent_of_cuts.append(' '.join(t))\n",
        "  final_sents = []\n",
        "  for i, text in enumerate(texts['sentences']):\n",
        "    for j, sent in enumerate(text):\n",
        "      for s in sent_of_cuts:\n",
        "        if s in ' '.join(clean(sent.lower()).split()):\n",
        "          if sent not in final_sents:\n",
        "            final_sents.append(sent)\n",
        "            links.append(texts['links'].to_list()[i])\n",
        "      \n",
        "  return final_sents, links  "
      ],
      "execution_count": 186,
      "outputs": []
    },
    {
      "cell_type": "code",
      "metadata": {
        "id": "Cosvru2aOASH"
      },
      "source": [
        "sents, links = search_by_ngramm('A A A A A')"
      ],
      "execution_count": 191,
      "outputs": []
    },
    {
      "cell_type": "code",
      "metadata": {
        "id": "9MY5RF_Iqyf3",
        "outputId": "13f43933-e79f-4418-e59f-202b1b3f2654",
        "colab": {
          "base_uri": "https://localhost:8080/",
          "height": 70
        }
      },
      "source": [
        "for i in range(len(sents)):\n",
        "  print(sents[i], '→ Читать продолжение в источнике... →', links[i])\n",
        "  print()"
      ],
      "execution_count": 192,
      "outputs": [
        {
          "output_type": "stream",
          "text": [
            "Таким был Иисус Христос, таким до него были Зевс, Озирис, Мардук, Фамуз, а также куда менее известный благостный бог Вицлипуцли, которого некогда почитали ацтеки в Мексике. → Читать продолжение в источнике... → https://panorama.pub/48521-doch-govarda-lavkrafta.html\n",
            "\n"
          ],
          "name": "stdout"
        }
      ]
    },
    {
      "cell_type": "code",
      "metadata": {
        "id": "EDvPTqdd8mOp"
      },
      "source": [
        ""
      ],
      "execution_count": 162,
      "outputs": []
    }
  ]
}